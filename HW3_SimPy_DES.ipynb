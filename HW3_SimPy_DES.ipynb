{
 "cells": [
  {
   "cell_type": "markdown",
   "metadata": {
    "Collapsed": "false"
   },
   "source": [
    "# Homework 3\n",
    "\n",
    "Working with Discrete Event Simulation in Python using SimPy."
   ]
  },
  {
   "cell_type": "markdown",
   "metadata": {
    "Collapsed": "false"
   },
   "source": [
    "## Preliminaries"
   ]
  },
  {
   "cell_type": "code",
   "execution_count": 1,
   "metadata": {
    "Collapsed": "false"
   },
   "outputs": [],
   "source": [
    "# To auto-reload modules in jupyter notebook (so that changes in files *.py doesn't require manual reloading):\n",
    "# https://stackoverflow.com/questions/5364050/reloading-submodules-in-ipython\n",
    "%load_ext autoreload\n",
    "%autoreload 2"
   ]
  },
  {
   "cell_type": "markdown",
   "metadata": {
    "Collapsed": "false"
   },
   "source": [
    "Import commonly used libraries and magic command for inline plotting"
   ]
  },
  {
   "cell_type": "code",
   "execution_count": 3,
   "metadata": {
    "Collapsed": "false"
   },
   "outputs": [],
   "source": [
    "import numpy as np\n",
    "import pandas as pd\n",
    "import matplotlib.pyplot as plt\n",
    "import seaborn as sns\n",
    "import math\n",
    "from scipy import optimize\n",
    "from numpy.random import default_rng\n",
    "from IPython.display import Image\n",
    "import simpy\n",
    "import my_functions"
   ]
  },
  {
   "cell_type": "code",
   "execution_count": 2,
   "metadata": {},
   "outputs": [],
   "source": [
    "%matplotlib inline"
   ]
  },
  {
   "cell_type": "markdown",
   "metadata": {
    "Collapsed": "false"
   },
   "source": [
    "## Work\n",
    "\n",
    "The process I am going to use for my Discrete Event Process is a Blood Donation process.\n",
    "\n",
    "```\n",
    "Arrival --> Registration --> Iron Level Check --> Blood Collection --> Schedule Next Donation (if desired) --> Wait 15 minutes --> Exit\n",
    "```\n"
   ]
  },
  {
   "cell_type": "code",
   "execution_count": 6,
   "metadata": {
    "Collapsed": "false",
    "tags": []
   },
   "outputs": [],
   "source": [
    "def patient_arrivals(env, interarrival_time=5.0):\n",
    "    \"\"\"Generate patients according to a fixed time arrival process\"\"\"\n",
    "\n",
    "    # Create a counter to keep track of number of patients generated and to serve as unique patient id\n",
    "    patient = 0\n",
    "\n",
    "    # Infinite loop for generating patients\n",
    "    while True:\n",
    "\n",
    "        # Generate next interarrival time (this will be more complicated later)\n",
    "        iat = interarrival_time\n",
    "        \n",
    "        # This process will now yield to a 'timeout' event. This process will resume after iat time units.\n",
    "        yield env.timeout(iat)\n",
    "\n",
    "        # Okay, we're back. :) New patient generated = update counter of patients\n",
    "        patient += 1\n",
    "        \n",
    "        print(f\"Patient {patient} created at time {env.now}\")"
   ]
  },
  {
   "cell_type": "code",
   "execution_count": 7,
   "metadata": {},
   "outputs": [
    {
     "name": "stdout",
     "output_type": "stream",
     "text": [
      "Patient 1 created at time 3.0\n",
      "Patient 2 created at time 6.0\n",
      "Patient 3 created at time 9.0\n",
      "Patient 4 created at time 12.0\n",
      "Patient 5 created at time 15.0\n",
      "Patient 6 created at time 18.0\n",
      "Patient 7 created at time 21.0\n",
      "Patient 8 created at time 24.0\n"
     ]
    }
   ],
   "source": [
    "# Initialize a simulation environment\n",
    "env1 = simpy.Environment()\n",
    "\n",
    "# Create a process generator and start it and add it to the env\n",
    "# env.process() starts the patient_arrivals process and adds it to the environment\n",
    "runtime = 25\n",
    "interarrival_time = 3.0\n",
    "env1.process(patient_arrivals(env1, interarrival_time))\n",
    "\n",
    "# Run the simulation\n",
    "env1.run(until=runtime)"
   ]
  },
  {
   "cell_type": "code",
   "execution_count": 8,
   "metadata": {
    "tags": []
   },
   "outputs": [],
   "source": [
    "def simplified_blood_donation(env, name, mean_prebd_time, mean_bd_time, mean_postbd_time, bd_tech):\n",
    "    \"\"\"Process function modeling how a patient flows through system.\"\"\"\n",
    "\n",
    "    print(f\"{name} entering blood donation clinic at {env.now:.4f}\")\n",
    "    \n",
    "    # Yield for the pre-blood donation time\n",
    "    yield env.timeout(rg.exponential(mean_prebd_time))\n",
    "    \n",
    "    # Request blood draw technician to start blood draw\n",
    "    with bd_tech.request() as request:\n",
    "        print(f\"{name} requested blood draw tech at {env.now:.4f}\")\n",
    "        yield request\n",
    "        print(f\"{name} got blood draw tech at {env.now:.4f}\")\n",
    "        yield env.timeout(rg.normal(mean_bd_time, 0.5))\n",
    "                          \n",
    "    # Yield for the post-blood donation time\n",
    "    yield env.timeout(mean_postbd_time)\n",
    "    \n",
    "    # The process is over, we would exit the clinic\n",
    "    print(f\"{name} exiting blood donation clinic at {env.now:.4f}\")"
   ]
  },
  {
   "cell_type": "code",
   "execution_count": 8,
   "metadata": {},
   "outputs": [],
   "source": [
    "rg = default_rng(seed=4470)"
   ]
  },
  {
   "cell_type": "code",
   "execution_count": 8,
   "metadata": {
    "tags": []
   },
   "outputs": [],
   "source": [
    "def patient_arrivals_random_2(env, mean_interarrival_time, mean_prebd_time, mean_bd_time,\n",
    "                              mean_postbd_time, bd_tech, rg=default_rng(0)):\n",
    "    \"\"\"Generate patients according to a Poisson arrival process\"\"\"\n",
    "\n",
    "    # Create a counter to keep track of number of patients generated and to serve as unique patient id\n",
    "    patient = 0\n",
    "\n",
    "    # Infinite loop for generating patients\n",
    "    while True:\n",
    "\n",
    "        # Generate next interarrival time\n",
    "        iat = rg.exponential(mean_interarrival_time)\n",
    "        \n",
    "        # This process will now yield to a 'timeout' event. This process will resume after iat time units.\n",
    "        yield env.timeout(iat)\n",
    "\n",
    "        # Update counter of patients\n",
    "        patient += 1\n",
    "\n",
    "        print(f\"Patient{patient} created at time {env.now}\")\n",
    "               \n",
    "        # Create and register the simplifed blood donation process in two steps\n",
    "        \n",
    "        # Create a new patient delay process generator object.\n",
    "        patient_visit = simplified_blood_donation(env, 'Patient{}'.format(patient), \n",
    "                                               mean_prebd_time, mean_bd_time, mean_postbd_time, bd_tech)\n",
    "        \n",
    "        # Register the process with the simulation environment\n",
    "        env.process(patient_visit)\n",
    "        \n",
    "        # Here's the one step version\n",
    "        # env.process(simplified_blood_donation(env, 'Patient{}'.format(patient), \n",
    "        #                                      mean_prebd_time, mean_bd_time, mean_postbd_time, bd_tech))"
   ]
  },
  {
   "cell_type": "code",
   "execution_count": 9,
   "metadata": {},
   "outputs": [
    {
     "name": "stdout",
     "output_type": "stream",
     "text": [
      "Patient1 created at time 2.039795711906729\n",
      "Patient1 entering blood donation clinic at 2.0398\n",
      "Patient2 created at time 5.098587016304323\n",
      "Patient2 entering blood donation clinic at 5.0986\n",
      "Patient3 created at time 5.158007004071489\n",
      "Patient3 entering blood donation clinic at 5.1580\n",
      "Patient4 created at time 5.164814984115174\n",
      "Patient4 entering blood donation clinic at 5.1648\n",
      "Patient1 requested blood draw tech at 5.3441\n",
      "Patient1 got blood draw tech at 5.3441\n",
      "Patient2 requested blood draw tech at 5.4710\n",
      "Patient2 got blood draw tech at 5.4710\n",
      "Patient4 requested blood draw tech at 6.7192\n",
      "Patient5 created at time 6.815843602032318\n",
      "Patient5 entering blood donation clinic at 6.8158\n",
      "Patient4 got blood draw tech at 9.3543\n",
      "Patient3 requested blood draw tech at 10.0950\n",
      "Patient3 got blood draw tech at 10.0950\n",
      "Patient6 created at time 11.705664906007474\n",
      "Patient6 entering blood donation clinic at 11.7057\n",
      "Patient6 requested blood draw tech at 12.4201\n",
      "Patient5 requested blood draw tech at 13.0868\n",
      "Patient7 created at time 13.72641376400917\n",
      "Patient7 entering blood donation clinic at 13.7264\n",
      "Patient7 requested blood draw tech at 13.8977\n",
      "Patient6 got blood draw tech at 14.0398\n",
      "Patient5 got blood draw tech at 14.1417\n",
      "Patient8 created at time 15.992317837485343\n",
      "Patient8 entering blood donation clinic at 15.9923\n",
      "Patient7 got blood draw tech at 17.9998\n",
      "Patient8 requested blood draw tech at 18.9336\n",
      "Patient8 got blood draw tech at 18.9336\n",
      "Patient2 exiting blood donation clinic at 24.3543\n",
      "Patient9 created at time 24.44267577471252\n",
      "Patient9 entering blood donation clinic at 24.4427\n",
      "Patient1 exiting blood donation clinic at 24.6198\n",
      "Patient9 requested blood draw tech at 25.5078\n",
      "Patient9 got blood draw tech at 25.5078\n",
      "Patient3 exiting blood donation clinic at 29.0398\n",
      "Patient4 exiting blood donation clinic at 29.1417\n",
      "Patient5 exiting blood donation clinic at 32.9998\n",
      "Patient6 exiting blood donation clinic at 33.3364\n",
      "Patient7 exiting blood donation clinic at 36.7341\n",
      "Patient8 exiting blood donation clinic at 38.5022\n",
      "Patient10 created at time 42.61593501604024\n",
      "Patient10 entering blood donation clinic at 42.6159\n",
      "Patient10 requested blood draw tech at 43.2661\n",
      "Patient10 got blood draw tech at 43.2661\n",
      "Patient9 exiting blood donation clinic at 45.0141\n"
     ]
    }
   ],
   "source": [
    "# Initialize a simulation environment\n",
    "env3 = simpy.Environment()\n",
    "\n",
    "# Set input values\n",
    "mean_interarrival_time = 3.0\n",
    "mean_prebd_time = 4.25\n",
    "mean_bd_time = 4.0\n",
    "mean_postbd_time = 15.0\n",
    "num_bd_tech = 2\n",
    "\n",
    "# Create vaccinator resource\n",
    "bd_tech = simpy.Resource(env3, num_bd_tech)\n",
    "\n",
    "# Register our new arrivals process\n",
    "env3.process(patient_arrivals_random_2(env3, mean_interarrival_time, mean_prebd_time, mean_bd_time,\n",
    "                                      mean_postbd_time, bd_tech))\n",
    "\n",
    "# Run the simulation\n",
    "runtime = 50\n",
    "env3.run(until=runtime)"
   ]
  },
  {
   "cell_type": "code",
   "execution_count": null,
   "metadata": {},
   "outputs": [],
   "source": []
  }
 ],
 "metadata": {
  "kernelspec": {
   "display_name": "Python [conda env:aap]",
   "language": "python",
   "name": "conda-env-aap-py"
  },
  "language_info": {
   "codemirror_mode": {
    "name": "ipython",
    "version": 3
   },
   "file_extension": ".py",
   "mimetype": "text/x-python",
   "name": "python",
   "nbconvert_exporter": "python",
   "pygments_lexer": "ipython3",
   "version": "3.7.13"
  },
  "toc-autonumbering": true
 },
 "nbformat": 4,
 "nbformat_minor": 4
}
